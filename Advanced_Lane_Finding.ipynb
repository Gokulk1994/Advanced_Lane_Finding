{
 "cells": [
  {
   "cell_type": "markdown",
   "metadata": {},
   "source": [
    "# Advanced Lane Finding \n"
   ]
  },
  {
   "cell_type": "markdown",
   "metadata": {},
   "source": [
    "### Objective:\n",
    "\n",
    "The main of this Advanced Lane Finding project is to,\n",
    "\n",
    "* Identify both **yellow and white Lane** Lines in different conditions like roads with shadows and color gradient.\n",
    "\n",
    "* Rejection of **Shadows** and, variation in lane and environment colors shall be done using HLS filter and Sobel Operator (Absolute, Magnitude and Direction filters).\n",
    "\n",
    "* The image which was processed to identify the lanes shall be **free from distortion**. Distortion shall be avoided by using the **calibration matrix** obtained from calibrating the camera with the provided **Chess board images**.\n",
    "\n",
    "* The Lane pixels shall be identified using the image in **Bird’s Eye view**(Top View) and not from normal view. This rectified image shall be obtained by using **Perspective transformation** on the original image with predefined Source and Destination points.\n",
    "\n",
    "* Identify the **curvature of the Lane** (in meters) and **vehicle position** with respect to center. These details shall be displayed in the final image.\n",
    "\n",
    "* Merge the identified Lane boundaries (with color) into the original image."
   ]
  },
  {
   "cell_type": "code",
   "execution_count": 116,
   "metadata": {
    "scrolled": true
   },
   "outputs": [],
   "source": [
    "import numpy as np\n",
    "import cv2\n",
    "import glob\n",
    "import matplotlib.pyplot as plt\n",
    "import matplotlib.image as mpimg\n",
    "from moviepy.editor import VideoFileClip\n",
    "from IPython.display import HTML\n",
    "get_ipython().run_line_magic('matplotlib', 'inline')\n",
    "%matplotlib inline"
   ]
  },
  {
   "cell_type": "markdown",
   "metadata": {},
   "source": [
    "## Camera Calibration and Disortion Correction - Using ChessBoard Images"
   ]
  },
  {
   "cell_type": "code",
   "execution_count": 117,
   "metadata": {
    "scrolled": true
   },
   "outputs": [],
   "source": [
    "\"\"\"Identify the corners of the provided chessboard images\"\"\"\n",
    "def IdentifyChessBoardCorners(Nx = 9,Ny = 6):\n",
    "    # prepare object points, like (0,0,0), (1,0,0), (2,0,0) ....,(6,5,0)s\n",
    "\n",
    "    objp = np.zeros((Nx*Ny,3), np.float32)\n",
    "    objp[:,:2] = np.mgrid[0:Nx,0:Ny].T.reshape(-1,2)\n",
    "\n",
    "    # Arrays to store object points and image points from all the images.\n",
    "    objpoints = [] # 3d points in real world space\n",
    "    imgpoints = [] # 2d points in image plane.\n",
    "\n",
    "    # Make a list of calibration images\n",
    "    images = glob.glob('camera_cal/calibration*.jpg')\n",
    "    # Step through the list and search for chessboard corners\n",
    "    for fname in images:\n",
    "        img = mpimg.imread(fname)\n",
    "        gray = cv2.cvtColor(img,cv2.COLOR_BGR2GRAY)\n",
    "        # Find the chessboard corners\n",
    "        ret, corners = cv2.findChessboardCorners(gray, (Nx,Ny),None)\n",
    "\n",
    "        # If found, add object points, image points\n",
    "        if ret == True:\n",
    "            objpoints.append(objp)\n",
    "            imgpoints.append(corners)\n",
    "\n",
    "            # Draw and display the corners\n",
    "            img = cv2.drawChessboardCorners(img, (Nx,Ny), corners, ret)\n",
    "\n",
    "    return objpoints, imgpoints, gray\n"
   ]
  },
  {
   "cell_type": "markdown",
   "metadata": {},
   "source": [
    "## Calibrate Camera"
   ]
  },
  {
   "cell_type": "code",
   "execution_count": 118,
   "metadata": {
    "scrolled": true
   },
   "outputs": [],
   "source": [
    "\"\"\"Calibrate the camera using the identified corner points a\n",
    "and return the Camera matrix and distortion coefficients\"\"\"\n",
    "\n",
    "def CalibrateCamera(objpoints,imgpoints,gray):\n",
    "    ret, mtx, dist, rvecs, tvecs = cv2.calibrateCamera(objpoints, imgpoints, gray.shape[::-1], None, None)\n",
    "\n",
    "    return ret, mtx, dist"
   ]
  },
  {
   "cell_type": "markdown",
   "metadata": {},
   "source": [
    "## Disrotion Correction"
   ]
  },
  {
   "cell_type": "code",
   "execution_count": 119,
   "metadata": {
    "scrolled": false
   },
   "outputs": [],
   "source": [
    "\"\"\"Undistort the provided image using the distortion coefficient\"\"\"\n",
    "def DistortionCorrec(img,mtx,dist):\n",
    "    \n",
    "    dst = cv2.undistort(img, mtx, dist, None, mtx)\n",
    "    \n",
    "    return dst"
   ]
  },
  {
   "cell_type": "markdown",
   "metadata": {},
   "source": [
    "## Thresholded Binary Image"
   ]
  },
  {
   "cell_type": "markdown",
   "metadata": {},
   "source": [
    "## Color Transforms - Filter S and L channels"
   ]
  },
  {
   "cell_type": "code",
   "execution_count": 120,
   "metadata": {
    "scrolled": true
   },
   "outputs": [],
   "source": [
    "\"\"\"The L and S channels are used by applying channel filter and limiting values with threshold.\"\"\"\n",
    "def GetColorTransform(image, S_thresh, L_thresh):\n",
    "    \n",
    "    hls = cv2.cvtColor(image, cv2.COLOR_RGB2HLS)\n",
    "    l_channel = hls[:,:,1]\n",
    "    s_channel = hls[:,:,2]\n",
    "    \n",
    "    \n",
    "    S_Filter = (s_channel > S_thresh[0]) & (s_channel <= S_thresh[1])\n",
    "    L_Filter = (l_channel > L_thresh[0]) & (l_channel <= L_thresh[1])\n",
    "    \n",
    "    return S_Filter,L_Filter\n",
    "\n"
   ]
  },
  {
   "cell_type": "markdown",
   "metadata": {},
   "source": [
    "## Gradient - Execute Absolute and Directional Sobel operations"
   ]
  },
  {
   "cell_type": "markdown",
   "metadata": {},
   "source": [
    "## Absolute Sobel"
   ]
  },
  {
   "cell_type": "code",
   "execution_count": 121,
   "metadata": {
    "scrolled": true
   },
   "outputs": [],
   "source": [
    "\"\"\"Get the bianry image with absolute sobel filter applied on the input image\"\"\"\n",
    "def abs_sobel_thresh(gray, orient='x', thresh_min=0, thresh_max=255):\n",
    "    \n",
    "    if orient == 'x':\n",
    "        sobel = cv2.Sobel(gray, cv2.CV_64F, 1, 0)\n",
    "    else:\n",
    "        sobel = cv2.Sobel(gray, cv2.CV_64F, 0, 1)\n",
    "    \n",
    "    abs_sobel = np.absolute(sobel)\n",
    "    scaled_sobel = np.uint8(255*abs_sobel/np.max(abs_sobel))\n",
    "    binary_output = np.zeros_like(scaled_sobel)\n",
    "    binary_output[(scaled_sobel >= thresh_min) & (scaled_sobel <= thresh_max)] = 1\n",
    "\n",
    "    return binary_output"
   ]
  },
  {
   "cell_type": "markdown",
   "metadata": {},
   "source": [
    "## Binary Thresholded Image - Combination of All"
   ]
  },
  {
   "cell_type": "code",
   "execution_count": 124,
   "metadata": {},
   "outputs": [],
   "source": [
    "def CreateBinaryThresholdedImage(image,Schannel, LChannel):\n",
    "\n",
    "    gray = cv2.cvtColor(image, cv2.COLOR_RGB2GRAY)\n",
    "    \n",
    "    gradx = abs_sobel_thresh(gray,'x', 30, 200)\n",
    "    grady = abs_sobel_thresh(gray,'y', 30, 200)\n",
    "\n",
    "    combined = np.zeros_like(image[:,:,0])\n",
    "    combined[((gradx == 1) & (grady == 1) | ((Schannel == 1) & (LChannel ==1)))] = 255\n",
    "\n",
    "    return combined"
   ]
  },
  {
   "cell_type": "markdown",
   "metadata": {},
   "source": [
    "## Mask the Lane region"
   ]
  },
  {
   "cell_type": "code",
   "execution_count": 125,
   "metadata": {
    "scrolled": true
   },
   "outputs": [],
   "source": [
    "\"\"\"Mask the region of interest\"\"\"\n",
    "def MaskLaneRegion(BinaryImage,region_of_interest_vertices):\n",
    "\n",
    "    mask = np.zeros_like(BinaryImage)\n",
    "    cv2.fillPoly(mask, [region_of_interest_vertices], 1)\n",
    "    thresholded = cv2.bitwise_and(BinaryImage, mask)\n",
    "\n",
    "    return thresholded"
   ]
  },
  {
   "cell_type": "markdown",
   "metadata": {},
   "source": [
    "## Perspective Transform (Bird's Eye View)"
   ]
  },
  {
   "cell_type": "code",
   "execution_count": 126,
   "metadata": {},
   "outputs": [],
   "source": [
    "\"\"\"Get the perspective transformed image of the input image\"\"\"\n",
    "def PerspectiveTransfrm(thresholded, image,src,dst):\n",
    "\n",
    "    img_size = (thresholded.shape[1], thresholded.shape[0])\n",
    "\n",
    "    M = cv2.getPerspectiveTransform(src, dst)\n",
    "    M_inv = cv2.getPerspectiveTransform(dst, src)\n",
    "\n",
    "    warped = cv2.warpPerspective(thresholded, M, img_size,flags=cv2.INTER_LINEAR)\n",
    "\n",
    "    NewImage = image.copy()\n",
    "    srcpts = np.array(src, np.int32)\n",
    "    srcpts = srcpts.reshape((-1,1,2))\n",
    "    cv2.polylines(image,[srcpts],True,(0,255,0), thickness=5)\n",
    "\n",
    "    return warped, M_inv"
   ]
  },
  {
   "cell_type": "markdown",
   "metadata": {},
   "source": [
    "## Identify Lane Pixels - Using Histogram of Warped Image"
   ]
  },
  {
   "cell_type": "code",
   "execution_count": 127,
   "metadata": {},
   "outputs": [],
   "source": [
    "def find_lane_pixels(binary_warped):\n",
    "\n",
    "    # Take a histogram of the bottom half of the image\n",
    "    histogram = np.sum(binary_warped[binary_warped.shape[0]//2:,:], axis=0)\n",
    "    # Create an output image to draw on and visualize the result\n",
    "    out_img = np.dstack((binary_warped, binary_warped, binary_warped))\n",
    "\n",
    "    # Find the peak of the left and right halves of the histogram\n",
    "    # These will be the starting point for the left and right lines\n",
    "    midpoint = np.int(histogram.shape[0]//2)\n",
    "    leftx_base = np.argmax(histogram[:midpoint])\n",
    "    rightx_base = np.argmax(histogram[midpoint:]) + midpoint\n",
    "    \n",
    "    # HYPERPARAMETERS\n",
    "    # Choose the number of sliding windows\n",
    "    nwindows = 9\n",
    "    # Set the width of the windows +/- margin\n",
    "    margin = 100\n",
    "    # Set minimum number of pixels found to recenter window\n",
    "    minpix = 50\n",
    "\n",
    "    # Set height of windows - based on nwindows above and image shape\n",
    "    window_height = np.int(binary_warped.shape[0]//nwindows)\n",
    "    \n",
    "    # Identify the x and y positions of all nonzero pixels in the image\n",
    "    nonzero = binary_warped.nonzero()\n",
    "    nonzeroy = np.array(nonzero[0])\n",
    "    nonzerox = np.array(nonzero[1])\n",
    "    \n",
    "    # Current positions to be updated later for each window in nwindows\n",
    "    leftx_current = leftx_base\n",
    "    rightx_current = rightx_base\n",
    "\n",
    "    # Create empty lists to receive left and right lane pixel indices\n",
    "    left_lane_inds = []\n",
    "    right_lane_inds = []\n",
    "    \n",
    "    # Step through the windows one by one\n",
    "    for window in range(nwindows):\n",
    "        # Identify window boundaries in x and y (and right and left)\n",
    "        win_y_low = binary_warped.shape[0] - (window+1)*window_height\n",
    "        win_y_high = binary_warped.shape[0] - window*window_height\n",
    "        \n",
    "        #Find the four below boundaries of the window ###\n",
    "        win_xleft_low = leftx_current - margin \n",
    "        win_xleft_high = leftx_current + margin  \n",
    "        win_xright_low = rightx_current - margin \n",
    "        win_xright_high = rightx_current + margin  \n",
    "        \n",
    "        # Draw the windows on the visualization image\n",
    "        cv2.rectangle(out_img,(win_xleft_low,win_y_low),(win_xleft_high,win_y_high),(255,255,0), 5) \n",
    "        cv2.rectangle(out_img,(win_xright_low,win_y_low),(win_xright_high,win_y_high),(255,0,0), 5)  \n",
    "\n",
    "        #Identify the nonzero pixels in x and y within the window ###\n",
    "        good_left_inds = ((nonzeroy >= win_y_low) & (nonzeroy < win_y_high) &  (nonzerox >= win_xleft_low) &  (nonzerox < win_xleft_high)).nonzero()[0]\n",
    "        good_right_inds = ((nonzeroy >= win_y_low) & (nonzeroy < win_y_high) &  (nonzerox >= win_xright_low) &  (nonzerox < win_xright_high)).nonzero()[0]\n",
    "        \n",
    "        # Append these indices to the lists\n",
    "        left_lane_inds.append(good_left_inds)\n",
    "        right_lane_inds.append(good_right_inds)\n",
    "        \n",
    "        ##If you found > minpix pixels, recenter next window ###\n",
    "        ### (`right` or `leftx_current`) on their mean position ###\n",
    "        if len(good_left_inds) > minpix:\n",
    "            leftx_current = np.int(np.mean(nonzerox[good_left_inds]))\n",
    "        if len(good_right_inds) > minpix:        \n",
    "            rightx_current = np.int(np.mean(nonzerox[good_right_inds]))\n",
    "\n",
    "    # Concatenate the arrays of indices (previously was a list of lists of pixels)\n",
    "    try:\n",
    "        left_lane_inds = np.concatenate(left_lane_inds)\n",
    "        right_lane_inds = np.concatenate(right_lane_inds)\n",
    "    except ValueError:\n",
    "        # Avoids an error if the above is not implemented fully\n",
    "        pass\n",
    "\n",
    "    # Extract left and right line pixel positions\n",
    "    leftx = nonzerox[left_lane_inds]\n",
    "    lefty = nonzeroy[left_lane_inds] \n",
    "    rightx = nonzerox[right_lane_inds]\n",
    "    righty = nonzeroy[right_lane_inds]\n",
    "    \n",
    "    return leftx, lefty, rightx, righty, out_img"
   ]
  },
  {
   "cell_type": "markdown",
   "metadata": {},
   "source": [
    "## Identify a Polynomial Curve"
   ]
  },
  {
   "cell_type": "code",
   "execution_count": 128,
   "metadata": {},
   "outputs": [],
   "source": [
    "def fit_polynomial(binary_warped):\n",
    "    # Find our lane pixels first\n",
    "    global lastleft_fit,lastright_fit\n",
    "    leftx, lefty, rightx, righty, out_img = find_lane_pixels(binary_warped)\n",
    "\n",
    "    #Fit a second order polynomial to each using `np.polyfit` ###\n",
    "    if lefty.size != 0 and leftx.size != 0:\n",
    "        left_fit = np.polyfit(lefty, leftx, 2)\n",
    "        if lastleft_fit!= None and np.average(np.abs(left_fit - lastleft_fit))>5 :\n",
    "            left_fit = lastleft_fit\n",
    "        lastleft_fit = left_fit\n",
    "    else:\n",
    "        left_fit = lastleft_fit\n",
    "        \n",
    "    if righty.size != 0 and rightx.size != 0:\n",
    "        right_fit = np.polyfit(righty, rightx, 2)\n",
    "        if lastright_fit!= None and np.average(np.abs(right_fit - lastright_fit))>5 :\n",
    "            right_fit = lastright_fit\n",
    "        lastright_fit = right_fit\n",
    "    else:\n",
    "        right_fit = lastright_fit\n",
    "        \n",
    "\n",
    "    # Generate x and y values for plotting\n",
    "    ploty = np.linspace(0, binary_warped.shape[0]-1, binary_warped.shape[0] )\n",
    "    try:\n",
    "        left_fitx = left_fit[0]*ploty**2 + left_fit[1]*ploty + left_fit[2]\n",
    "        right_fitx = right_fit[0]*ploty**2 + right_fit[1]*ploty + right_fit[2]\n",
    "    except TypeError:\n",
    "        # Avoids an error if `left` and `right_fit` are still none or incorrect\n",
    "        print('The function failed to fit a line!')\n",
    "        left_fitx = 1*ploty**2 + 1*ploty\n",
    "        right_fitx = 1*ploty**2 + 1*ploty\n",
    "\n",
    "\n",
    "    ## Visualization ##\n",
    "    # Colors in the left and right lane regions\n",
    "    out_img[lefty, leftx] = [255, 0, 0]\n",
    "    out_img[righty, rightx] = [0, 0, 255]\n",
    "    \n",
    "    return left_fit, right_fit"
   ]
  },
  {
   "cell_type": "code",
   "execution_count": 129,
   "metadata": {},
   "outputs": [],
   "source": [
    "def fit_poly(img_shape, leftx, lefty, rightx, righty):\n",
    "    ##Fit a second order polynomial to each with np.polyfit() ###\n",
    "    global oldleft_fit, oldright_fit\n",
    "    #Fit a second order polynomial to each using `np.polyfit` ###\n",
    "    if lefty.size != 0 and leftx.size != 0:\n",
    "        left_fit = np.polyfit(lefty, leftx, 2)\n",
    "        oldleft_fit = left_fit\n",
    "    else:\n",
    "        left_fit = oldleft_fit\n",
    "        \n",
    "    if righty.size != 0 and rightx.size != 0:\n",
    "        right_fit = np.polyfit(righty, rightx, 2)\n",
    "        oldright_fit = right_fit\n",
    "    else:\n",
    "        right_fit = oldright_fit\n",
    "\n",
    "\n",
    "    # Generate x and y values for plotting\n",
    "    ploty = np.linspace(0, img_shape[0]-1, img_shape[0])\n",
    "    #Calc both polynomials using ploty, left_fit and right_fit ###\n",
    "    left_fitx = left_fit[0]*ploty**2 + left_fit[1]*ploty + left_fit[2]\n",
    "    right_fitx = right_fit[0]*ploty**2 + right_fit[1]*ploty + right_fit[2]\n",
    "    \n",
    "    return left_fitx, right_fitx, ploty"
   ]
  },
  {
   "cell_type": "markdown",
   "metadata": {},
   "source": [
    "## Search Around earlier Lines"
   ]
  },
  {
   "cell_type": "code",
   "execution_count": 130,
   "metadata": {},
   "outputs": [],
   "source": [
    "def search_around_poly(binary_warped,left_fit,right_fit):\n",
    "\n",
    "    # HYPERPARAMETER\n",
    "    # Choose the width of the margin around the previous polynomial to search\n",
    "    # The quiz grader expects 100 here, but feel free to tune on your own!\n",
    "    margin = 100\n",
    "\n",
    "    # Grab activated pixels\n",
    "    nonzero = binary_warped.nonzero()\n",
    "    nonzeroy = np.array(nonzero[0])\n",
    "    nonzerox = np.array(nonzero[1])\n",
    "\n",
    "    left_lane_inds = ((nonzerox > (left_fit[0]*(nonzeroy**2) + left_fit[1]*nonzeroy + \n",
    "                    left_fit[2] - margin)) & (nonzerox < (left_fit[0]*(nonzeroy**2) + \n",
    "                    left_fit[1]*nonzeroy + left_fit[2] + margin)))\n",
    "    right_lane_inds = ((nonzerox > (right_fit[0]*(nonzeroy**2) + right_fit[1]*nonzeroy + \n",
    "                    right_fit[2] - margin)) & (nonzerox < (right_fit[0]*(nonzeroy**2) + \n",
    "                    right_fit[1]*nonzeroy + right_fit[2] + margin)))\n",
    "    \n",
    "    # Again, extract left and right line pixel positions\n",
    "    leftx = nonzerox[left_lane_inds]\n",
    "    lefty = nonzeroy[left_lane_inds] \n",
    "    rightx = nonzerox[right_lane_inds]\n",
    "    righty = nonzeroy[right_lane_inds]\n",
    "\n",
    "    # Fit new polynomials\n",
    "    left_fitx, right_fitx, ploty = fit_poly(binary_warped.shape, leftx, lefty, rightx, righty)\n",
    "\n",
    "    ## Visualization ##\n",
    "    # Create an image to draw on and an image to show the selection window\n",
    "    out_img = np.dstack((binary_warped, binary_warped, binary_warped))*255\n",
    "    window_img = np.zeros_like(out_img)\n",
    "    # Color in left and right line pixels\n",
    "    out_img[nonzeroy[left_lane_inds], nonzerox[left_lane_inds]] = [255, 0, 0]\n",
    "    out_img[nonzeroy[right_lane_inds], nonzerox[right_lane_inds]] = [0, 0, 255]\n",
    "\n",
    "    # Generate a polygon to illustrate the search window area\n",
    "    # And recast the x and y points into usable format for cv2.fillPoly()\n",
    "    left_line_window1 = np.array([np.transpose(np.vstack([left_fitx-margin, ploty]))])\n",
    "    left_line_window2 = np.array([np.flipud(np.transpose(np.vstack([left_fitx+margin, \n",
    "                              ploty])))])\n",
    "    left_line_pts = np.hstack((left_line_window1, left_line_window2))\n",
    "    right_line_window1 = np.array([np.transpose(np.vstack([right_fitx-margin, ploty]))])\n",
    "    right_line_window2 = np.array([np.flipud(np.transpose(np.vstack([right_fitx+margin, \n",
    "                              ploty])))])\n",
    "    right_line_pts = np.hstack((right_line_window1, right_line_window2))\n",
    "\n",
    "    # Draw the lane onto the warped blank image\n",
    "    cv2.fillPoly(window_img, np.int_([left_line_pts]), (0,255, 0))\n",
    "    cv2.fillPoly(window_img, np.int_([right_line_pts]), (0,255, 0))\n",
    "    result = cv2.addWeighted(out_img, 1, window_img, 0.3, 0)\n",
    "\n",
    "    return result, left_fitx, right_fitx"
   ]
  },
  {
   "cell_type": "markdown",
   "metadata": {},
   "source": [
    "## Identify Radius of Curvature and Center of Vehicle"
   ]
  },
  {
   "cell_type": "code",
   "execution_count": 131,
   "metadata": {},
   "outputs": [],
   "source": [
    "\"\"\"Calculate the radius of curvature and the position of vehicle with respect to center of lane\"\"\"\n",
    "def measure_curvature_real(leftx,rightx):\n",
    "    ym_per_pix = 30/720 # meters per pixel in y dimension\n",
    "    #xm_per_pix = 3.7/700 # meters per pixel in x dimension\n",
    "    lane_width = rightx[-1] - leftx[-1]\n",
    "    xm_per_pix = 3.7 / lane_width\n",
    "    # If no pixels were found return None\n",
    "    ploty = np.linspace(0, 720-1, 720)\n",
    "    y_eval = np.max(ploty)\n",
    "    \n",
    "    left_fit_cr = np.polyfit(ploty*ym_per_pix, leftx*xm_per_pix, 2)\n",
    "    right_fit_cr = np.polyfit(ploty*ym_per_pix, rightx*xm_per_pix, 2)\n",
    "\n",
    "    # Calculation of R_curve (radius of curvature)\n",
    "    left_curverad = ((1 + (2*left_fit_cr[0]*y_eval*ym_per_pix + left_fit_cr[1])**2)**1.5) / np.absolute(2*left_fit_cr[0])\n",
    "    right_curverad = ((1 + (2*right_fit_cr[0]*y_eval*ym_per_pix + right_fit_cr[1])**2)**1.5) / np.absolute(2*right_fit_cr[0])\n",
    "    \n",
    "    return left_curverad, right_curverad\n"
   ]
  },
  {
   "cell_type": "markdown",
   "metadata": {},
   "source": [
    "## Plot the Lane on Actual Image"
   ]
  },
  {
   "cell_type": "code",
   "execution_count": 132,
   "metadata": {},
   "outputs": [],
   "source": [
    "def DrawIdentifiedLane(image,warped,left_fit_cr,right_fit_cr,M_inv,radiusStr,DistfrmCentStr):\n",
    "\n",
    "    out_img = np.dstack((warped, warped, warped))*255\n",
    "    y_points = np.linspace(0, 719, 720)\n",
    "    \n",
    "    left_line_window = np.array(np.transpose(np.vstack([left_fit_cr, y_points])))\n",
    "    right_line_window = np.array(np.flipud(np.transpose(np.vstack([right_fit_cr, y_points]))))\n",
    "    \n",
    "    line_points = np.vstack((left_line_window, right_line_window))\n",
    "    cv2.fillPoly(out_img, np.int_([line_points]), [0,255, 0])\n",
    "    img_size = (out_img.shape[1], out_img.shape[0])\n",
    "    \n",
    "    unwarped = cv2.warpPerspective(out_img, M_inv, img_size , flags=cv2.INTER_LINEAR)\n",
    "    result = cv2.addWeighted(image, 1, unwarped, 0.3, 0)\n",
    "    cv2.putText(result,radiusStr , (50, 50), cv2.FONT_HERSHEY_SIMPLEX , 1.0, (255,255,255), thickness=2)\n",
    "    cv2.putText(result, DistfrmCentStr, (50, 100), cv2.FONT_HERSHEY_SIMPLEX , 1.0, (255,255,255), thickness=2)\n",
    "\n",
    "    return result"
   ]
  },
  {
   "cell_type": "markdown",
   "metadata": {},
   "source": [
    "## Project Pipeline "
   ]
  },
  {
   "cell_type": "markdown",
   "metadata": {},
   "source": [
    "1. Identify **Chess board corners**.\n",
    "2. Calibrate Camera by identifying **Camera matrix and distortion coefficients**.\n",
    "3. **Undistort** the image.\n",
    "4. Choose **Color Channels** which needs to be activated for proper identification of lanes in all conditions.\n",
    "5. Form a binary threshold values from using **Gradient thresholds** in the Direction of X and Directional Gradient.\n",
    "6. **Mask** the Lane region.\n",
    "7. Transform the Binary Image into Warped image (Bird’s Eye view) using **Perspective Transform**.\n",
    "8. Fit **Polynomial Curve** by Identifying the Lane Pixels using **Sliding Window method**.\n",
    "9. In order to reduce the processing of the lane pixel detection, use the **last searched** and identified pixel data.\n",
    "10. Find the **curvature of lane**.\n",
    "11. Calculate the **center of Vehicle** with respect to the Lane center.\n",
    "12. Display the **identified lane image** over the **Actual image** along with proper text to display curvature and vehicle center."
   ]
  },
  {
   "cell_type": "code",
   "execution_count": null,
   "metadata": {},
   "outputs": [],
   "source": [
    "def Project_PipeLine(image):\n",
    "    global OnlyOnce\n",
    "    global mtx\n",
    "    global dist\n",
    "\n",
    "    # Camera Calibration\n",
    "    if OnlyOnce == \"yes\":\n",
    "        # 1. Chess Board Corner Detection\n",
    "        objpoints, imgpoints, gray = IdentifyChessBoardCorners(9,6)\n",
    "        # 2. Calibrate Camera\n",
    "        ret, mtx, dist = CalibrateCamera(objpoints,imgpoints,gray)\n",
    "        OnlyOnce = \"no\"\n",
    "\n",
    "    # 3. UnDistort the Image\n",
    "    \n",
    "    dst = DistortionCorrec(image,mtx,dist)\n",
    "\n",
    "    # 4. Split Different Color Channels\n",
    "    S_thresh = [100,255]\n",
    "    L_thresh = [125,255]\n",
    "    Schannel, LChannel = GetColorTransform(dst,S_thresh,L_thresh)\n",
    "    \n",
    "    # 5. Form Binary Thresholded Image\n",
    "    BinaryImage = CreateBinaryThresholdedImage(dst,Schannel, LChannel)\n",
    "    height,width = BinaryImage.shape\n",
    "    \n",
    "    # 6. Mask the region\n",
    "    region_of_interest_vertices = np.array([[0,height-1], [width/2, height/2], [width-1, height-1]], dtype=np.int32)\n",
    "    thresholded = MaskLaneRegion(BinaryImage,region_of_interest_vertices)\n",
    "    \n",
    "    #7. Perspective Transform\n",
    "    \n",
    "    #Source Points\n",
    "    SLeftBottom = [180,720]\n",
    "    SLeftTop    = [540,470]\n",
    "    SRightBottom = [1150,720]\n",
    "    SRightTop    = [730,470]\n",
    "\n",
    "    srcpt = np.float32([SLeftBottom,SRightBottom,SRightTop,SLeftTop])\n",
    "\n",
    "    # Destination Points\n",
    "    DLeftBottom = [350,720]\n",
    "    DLeftTop    = [350,10]\n",
    "    DRightBottom = [800,720]\n",
    "    DRightTop    = [800,10]\n",
    "\n",
    "    dstpt = np.float32([DLeftBottom,DRightBottom,DRightTop,DLeftTop])\n",
    "    \n",
    "    warped,M_inv = PerspectiveTransfrm(thresholded, dst,srcpt,dstpt)\n",
    "    \n",
    "    \n",
    "    # 8. Fit Polynomial\n",
    "    left_fit, right_fit = fit_polynomial(warped)\n",
    "    \n",
    "    #9. Search Around\n",
    "    result, left_fit_cr, right_fit_cr = search_around_poly(warped,left_fit,right_fit)\n",
    "    \n",
    "    # 10. Identify Lane Curvature\n",
    "    left_curverad, right_curverad = measure_curvature_real(left_fit_cr,right_fit_cr)\n",
    "    avg_curverad  = (left_curverad + right_curverad) /2\n",
    "    radiusStr = str(\"Radius of Lane Curvature = \" + str(avg_curverad) + 'm')\n",
    "    if mode == \"Image\":\n",
    "        print(\"Radius of Left Curvature = \" , left_curverad , 'm')\n",
    "        print(\"Radius of Right Curvature = \" , right_curverad , 'm')\n",
    "        print(\"Radius of Lane Curvature = \" , avg_curverad , 'm')\n",
    "        \n",
    "    # 11. Vehicle Center \n",
    "    lane_width = abs(left_fit_cr[-1] - right_fit_cr[-1])\n",
    "    xm_per_pix = 3.7 / lane_width\n",
    "    Lane_Center = ((left_fit_cr[719]) + (right_fit_cr[719])) / 2 \n",
    "    \n",
    "    Offset = ((dst.shape[1]/2) - Lane_Center)\n",
    "    DistfrmCent = xm_per_pix*Offset\n",
    "    \n",
    "    if DistfrmCent < 0:\n",
    "        DistfrmCentStr = str(\"Vehicle is \" + str(abs(DistfrmCent)) +  \"m right from center\")\n",
    "    else:\n",
    "        DistfrmCentStr = str(\"Vehicle is \" + str(abs(DistfrmCent)) +  \"m left from center\")\n",
    "        \n",
    "    if mode == \"Image\":\n",
    "        print(\"Vehicle is \", abs(DistfrmCent), \"m from center\")\n",
    "        \n",
    "    # 12. Obtain final image with lane\n",
    "    Result = DrawIdentifiedLane(image,warped,left_fit_cr,right_fit_cr,M_inv,radiusStr,DistfrmCentStr)\n",
    "\n",
    "    return Result    "
   ]
  },
  {
   "cell_type": "markdown",
   "metadata": {},
   "source": [
    "## Pipeline for Project Video"
   ]
  },
  {
   "cell_type": "code",
   "execution_count": 135,
   "metadata": {
    "scrolled": false
   },
   "outputs": [
    {
     "name": "stdout",
     "output_type": "stream",
     "text": [
      "[MoviePy] >>>> Building video output_images/project_video_output.mp4\n",
      "[MoviePy] Writing video output_images/project_video_output.mp4\n"
     ]
    },
    {
     "name": "stderr",
     "output_type": "stream",
     "text": [
      "100%|█████████▉| 1260/1261 [05:49<00:00,  3.71it/s]\n"
     ]
    },
    {
     "name": "stdout",
     "output_type": "stream",
     "text": [
      "[MoviePy] Done.\n",
      "[MoviePy] >>>> Video ready: output_images/project_video_output.mp4 \n",
      "\n",
      "CPU times: user 3min 39s, sys: 3.12 s, total: 3min 42s\n",
      "Wall time: 5min 52s\n"
     ]
    }
   ],
   "source": [
    "mode = \"Video\"\n",
    "OnlyOnce = \"yes\"\n",
    "mtx = None\n",
    "dist = None\n",
    "lastleft_fit = None\n",
    "lastright_fit = None\n",
    "oldleft_fit = None\n",
    "oldright_fit = None\n",
    "output = 'project_video_output.mp4'\n",
    "clip1 = VideoFileClip(\"project_video.mp4\")\n",
    "white_clip = clip1.fl_image(Project_PipeLine)\n",
    "get_ipython().run_line_magic('time', 'white_clip.write_videofile(output, audio=False)')"
   ]
  }
 ],
 "metadata": {
  "kernelspec": {
   "display_name": "Python 3",
   "language": "python",
   "name": "python3"
  },
  "language_info": {
   "codemirror_mode": {
    "name": "ipython",
    "version": 3
   },
   "file_extension": ".py",
   "mimetype": "text/x-python",
   "name": "python",
   "nbconvert_exporter": "python",
   "pygments_lexer": "ipython3",
   "version": "3.6.4"
  }
 },
 "nbformat": 4,
 "nbformat_minor": 2
}
